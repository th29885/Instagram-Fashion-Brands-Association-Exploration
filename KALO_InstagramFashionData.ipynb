{
 "cells": [
  {
   "cell_type": "markdown",
   "metadata": {},
   "source": [
    "### (1) Data Description\n",
    "I found the instagram fashion dataset from Harvard database. \n",
    "https://dataverse.harvard.edu/dataset.xhtml?persistentId=doi:10.7910/DVN/K7AW6F\n",
    "The dataset is composed of information about 24,752 posts by 13,350 people on Instagram. The data collection was done over a month period in January, 2015. It included posts mentioning 48 internationally renowned fashion brand names as hashtag.\n",
    "\n",
    "•        User Id: Numeric ID of the posting user\n",
    "\n",
    "•        Followings: The number other users a given uploader is following (i.e., distinct sources of the uploader)\n",
    "\n",
    "•        Followers: The number of other users subscribing to the uploader’s account (i.e., fans of the uploader)\n",
    "\n",
    "•        Media count: The number of total posts (both fashion and non-fashion) contributed by the uploader\n",
    "\n",
    "•        Brand name: A brand name used in fashion post search process, used as a hashtag in user’s post\n",
    "\n",
    "•        Brand category: Grouping of a brand\n",
    "\n",
    "•        Hashtags: The list of hashtags in a post\n",
    "\n",
    "•        Caption: Text description of a post provided by the user, excluding the hashtag information\n",
    "\n",
    "•        Image URL: A web link to the image file of the post\n",
    "\n",
    "•        Likes: The total number of likes per post as well as the list of Instagram audience who liked each photo  (including their user IDs, names, and profile URLs)\n",
    "\n",
    "•        Comments: The total number of comments as well as the list of Instagram audience who commented on the photo\n",
    "\n",
    "•        Creation Time: When post was uploaded on Instagram\n",
    "\n",
    "•        Link: A web URL (if any) contained in each post\n",
    "\n"
   ]
  },
  {
   "cell_type": "code",
   "execution_count": 165,
   "metadata": {},
   "outputs": [],
   "source": [
    "from pandas import Series, DataFrame\n",
    "from matplotlib.pyplot import *\n",
    "import pandas as pd\n",
    "import numpy as np\n",
    "import re\n",
    "import os\n",
    "%matplotlib inline"
   ]
  },
  {
   "cell_type": "code",
   "execution_count": 2,
   "metadata": {},
   "outputs": [],
   "source": [
    "data = pd.read_csv('fashion data on Instagram.csv', index_col = 0)"
   ]
  },
  {
   "cell_type": "code",
   "execution_count": 3,
   "metadata": {},
   "outputs": [
    {
     "data": {
      "text/html": [
       "<div>\n",
       "<style scoped>\n",
       "    .dataframe tbody tr th:only-of-type {\n",
       "        vertical-align: middle;\n",
       "    }\n",
       "\n",
       "    .dataframe tbody tr th {\n",
       "        vertical-align: top;\n",
       "    }\n",
       "\n",
       "    .dataframe thead th {\n",
       "        text-align: right;\n",
       "    }\n",
       "</style>\n",
       "<table border=\"1\" class=\"dataframe\">\n",
       "  <thead>\n",
       "    <tr style=\"text-align: right;\">\n",
       "      <th></th>\n",
       "      <th>Followings</th>\n",
       "      <th>Followers</th>\n",
       "      <th>MediaCount</th>\n",
       "      <th>BrandName</th>\n",
       "      <th>BrandCategory</th>\n",
       "      <th>Hashtags</th>\n",
       "      <th>Caption</th>\n",
       "      <th>ImgURL</th>\n",
       "      <th>Likes</th>\n",
       "      <th>Comments</th>\n",
       "      <th>...</th>\n",
       "      <th>NumberOfPeople</th>\n",
       "      <th>NumberOfFashionProduct</th>\n",
       "      <th>Anger</th>\n",
       "      <th>Contempt</th>\n",
       "      <th>Disgust</th>\n",
       "      <th>Fear</th>\n",
       "      <th>Happiness</th>\n",
       "      <th>Neutral</th>\n",
       "      <th>Sadness</th>\n",
       "      <th>Surprise</th>\n",
       "    </tr>\n",
       "    <tr>\n",
       "      <th>UserId</th>\n",
       "      <th></th>\n",
       "      <th></th>\n",
       "      <th></th>\n",
       "      <th></th>\n",
       "      <th></th>\n",
       "      <th></th>\n",
       "      <th></th>\n",
       "      <th></th>\n",
       "      <th></th>\n",
       "      <th></th>\n",
       "      <th></th>\n",
       "      <th></th>\n",
       "      <th></th>\n",
       "      <th></th>\n",
       "      <th></th>\n",
       "      <th></th>\n",
       "      <th></th>\n",
       "      <th></th>\n",
       "      <th></th>\n",
       "      <th></th>\n",
       "      <th></th>\n",
       "    </tr>\n",
       "  </thead>\n",
       "  <tbody>\n",
       "    <tr>\n",
       "      <th>1171579752855683619_212070047</th>\n",
       "      <td>518.0</td>\n",
       "      <td>9840.0</td>\n",
       "      <td>541</td>\n",
       "      <td>abercrombie</td>\n",
       "      <td>High street</td>\n",
       "      <td>beautiful, summer, fashion, love, cute, food, ...</td>\n",
       "      <td>We were born to be REAL, not to be perfect. ...</td>\n",
       "      <td>https://scontent.cdninstagram.com/t51.2885-15/...</td>\n",
       "      <td>97</td>\n",
       "      <td>0</td>\n",
       "      <td>...</td>\n",
       "      <td>0.931486</td>\n",
       "      <td>3.42211</td>\n",
       "      <td>0.083862</td>\n",
       "      <td>0.015089</td>\n",
       "      <td>0.000583</td>\n",
       "      <td>0.000026</td>\n",
       "      <td>0.000017</td>\n",
       "      <td>0.890586</td>\n",
       "      <td>0.009657</td>\n",
       "      <td>0.000181</td>\n",
       "    </tr>\n",
       "    <tr>\n",
       "      <th>1171594777274371222_176762322</th>\n",
       "      <td>7333.0</td>\n",
       "      <td>2300.0</td>\n",
       "      <td>272</td>\n",
       "      <td>abercrombie</td>\n",
       "      <td>High street</td>\n",
       "      <td>teen, model, brunette, selfie, hollister, snap...</td>\n",
       "      <td>Gotta run, but first, let me take selfie. Me...</td>\n",
       "      <td>https://scontent.cdninstagram.com/t51.2885-15/...</td>\n",
       "      <td>94</td>\n",
       "      <td>0</td>\n",
       "      <td>...</td>\n",
       "      <td>0.466329</td>\n",
       "      <td>2.91971</td>\n",
       "      <td>0.000000</td>\n",
       "      <td>0.000000</td>\n",
       "      <td>0.000000</td>\n",
       "      <td>0.000000</td>\n",
       "      <td>0.000000</td>\n",
       "      <td>0.000000</td>\n",
       "      <td>0.000000</td>\n",
       "      <td>0.000000</td>\n",
       "    </tr>\n",
       "    <tr>\n",
       "      <th>1171407552643586413_581125501</th>\n",
       "      <td>131.0</td>\n",
       "      <td>605.0</td>\n",
       "      <td>106</td>\n",
       "      <td>abercrombie</td>\n",
       "      <td>High street</td>\n",
       "      <td>alexandani, cute, llbean, beanboots, anthropol...</td>\n",
       "      <td>dress to impress\\U0001f457</td>\n",
       "      <td>https://scontent.cdninstagram.com/t51.2885-15/...</td>\n",
       "      <td>91</td>\n",
       "      <td>3</td>\n",
       "      <td>...</td>\n",
       "      <td>1.116500</td>\n",
       "      <td>4.69096</td>\n",
       "      <td>0.000000</td>\n",
       "      <td>0.000000</td>\n",
       "      <td>0.000000</td>\n",
       "      <td>0.000000</td>\n",
       "      <td>0.000000</td>\n",
       "      <td>0.000000</td>\n",
       "      <td>0.000000</td>\n",
       "      <td>0.000000</td>\n",
       "    </tr>\n",
       "    <tr>\n",
       "      <th>1171407552643586413_581125501</th>\n",
       "      <td>131.0</td>\n",
       "      <td>605.0</td>\n",
       "      <td>106</td>\n",
       "      <td>abercrombie</td>\n",
       "      <td>High street</td>\n",
       "      <td>alexandani, cute, llbean, beanboots, anthropol...</td>\n",
       "      <td>dress to impress\\U0001f457</td>\n",
       "      <td>https://scontent.cdninstagram.com/t51.2885-15/...</td>\n",
       "      <td>94</td>\n",
       "      <td>3</td>\n",
       "      <td>...</td>\n",
       "      <td>1.116500</td>\n",
       "      <td>4.69096</td>\n",
       "      <td>0.000000</td>\n",
       "      <td>0.000000</td>\n",
       "      <td>0.000000</td>\n",
       "      <td>0.000000</td>\n",
       "      <td>0.000000</td>\n",
       "      <td>0.000000</td>\n",
       "      <td>0.000000</td>\n",
       "      <td>0.000000</td>\n",
       "    </tr>\n",
       "    <tr>\n",
       "      <th>1171508187966229230_2797323089</th>\n",
       "      <td>132.0</td>\n",
       "      <td>456.0</td>\n",
       "      <td>56</td>\n",
       "      <td>abercrombie</td>\n",
       "      <td>High street</td>\n",
       "      <td>abercrombieandfitch, shopping, love, hollister...</td>\n",
       "      <td>#love #shopping #shoppen #hollister #abercro...</td>\n",
       "      <td>https://scontent.cdninstagram.com/t51.2885-15/...</td>\n",
       "      <td>9</td>\n",
       "      <td>1</td>\n",
       "      <td>...</td>\n",
       "      <td>0.393063</td>\n",
       "      <td>1.45586</td>\n",
       "      <td>0.000000</td>\n",
       "      <td>0.000000</td>\n",
       "      <td>0.000000</td>\n",
       "      <td>0.000000</td>\n",
       "      <td>0.000000</td>\n",
       "      <td>0.000000</td>\n",
       "      <td>0.000000</td>\n",
       "      <td>0.000000</td>\n",
       "    </tr>\n",
       "  </tbody>\n",
       "</table>\n",
       "<p>5 rows × 32 columns</p>\n",
       "</div>"
      ],
      "text/plain": [
       "                                Followings  Followers  MediaCount  \\\n",
       "UserId                                                              \n",
       "1171579752855683619_212070047        518.0     9840.0         541   \n",
       "1171594777274371222_176762322       7333.0     2300.0         272   \n",
       "1171407552643586413_581125501        131.0      605.0         106   \n",
       "1171407552643586413_581125501        131.0      605.0         106   \n",
       "1171508187966229230_2797323089       132.0      456.0          56   \n",
       "\n",
       "                                  BrandName BrandCategory  \\\n",
       "UserId                                                      \n",
       "1171579752855683619_212070047   abercrombie   High street   \n",
       "1171594777274371222_176762322   abercrombie   High street   \n",
       "1171407552643586413_581125501   abercrombie   High street   \n",
       "1171407552643586413_581125501   abercrombie   High street   \n",
       "1171508187966229230_2797323089  abercrombie   High street   \n",
       "\n",
       "                                                                         Hashtags  \\\n",
       "UserId                                                                              \n",
       "1171579752855683619_212070047   beautiful, summer, fashion, love, cute, food, ...   \n",
       "1171594777274371222_176762322   teen, model, brunette, selfie, hollister, snap...   \n",
       "1171407552643586413_581125501   alexandani, cute, llbean, beanboots, anthropol...   \n",
       "1171407552643586413_581125501   alexandani, cute, llbean, beanboots, anthropol...   \n",
       "1171508187966229230_2797323089  abercrombieandfitch, shopping, love, hollister...   \n",
       "\n",
       "                                                                          Caption  \\\n",
       "UserId                                                                              \n",
       "1171579752855683619_212070047     We were born to be REAL, not to be perfect. ...   \n",
       "1171594777274371222_176762322     Gotta run, but first, let me take selfie. Me...   \n",
       "1171407552643586413_581125501                         dress to impress\\U0001f457    \n",
       "1171407552643586413_581125501                         dress to impress\\U0001f457    \n",
       "1171508187966229230_2797323089    #love #shopping #shoppen #hollister #abercro...   \n",
       "\n",
       "                                                                           ImgURL  \\\n",
       "UserId                                                                              \n",
       "1171579752855683619_212070047   https://scontent.cdninstagram.com/t51.2885-15/...   \n",
       "1171594777274371222_176762322   https://scontent.cdninstagram.com/t51.2885-15/...   \n",
       "1171407552643586413_581125501   https://scontent.cdninstagram.com/t51.2885-15/...   \n",
       "1171407552643586413_581125501   https://scontent.cdninstagram.com/t51.2885-15/...   \n",
       "1171508187966229230_2797323089  https://scontent.cdninstagram.com/t51.2885-15/...   \n",
       "\n",
       "                                Likes  Comments     ...     NumberOfPeople  \\\n",
       "UserId                                              ...                      \n",
       "1171579752855683619_212070047      97          0    ...           0.931486   \n",
       "1171594777274371222_176762322      94          0    ...           0.466329   \n",
       "1171407552643586413_581125501      91          3    ...           1.116500   \n",
       "1171407552643586413_581125501      94          3    ...           1.116500   \n",
       "1171508187966229230_2797323089      9          1    ...           0.393063   \n",
       "\n",
       "                               NumberOfFashionProduct     Anger  Contempt  \\\n",
       "UserId                                                                      \n",
       "1171579752855683619_212070047                 3.42211  0.083862  0.015089   \n",
       "1171594777274371222_176762322                 2.91971  0.000000  0.000000   \n",
       "1171407552643586413_581125501                 4.69096  0.000000  0.000000   \n",
       "1171407552643586413_581125501                 4.69096  0.000000  0.000000   \n",
       "1171508187966229230_2797323089                1.45586  0.000000  0.000000   \n",
       "\n",
       "                                 Disgust      Fear  Happiness   Neutral  \\\n",
       "UserId                                                                    \n",
       "1171579752855683619_212070047   0.000583  0.000026   0.000017  0.890586   \n",
       "1171594777274371222_176762322   0.000000  0.000000   0.000000  0.000000   \n",
       "1171407552643586413_581125501   0.000000  0.000000   0.000000  0.000000   \n",
       "1171407552643586413_581125501   0.000000  0.000000   0.000000  0.000000   \n",
       "1171508187966229230_2797323089  0.000000  0.000000   0.000000  0.000000   \n",
       "\n",
       "                                 Sadness  Surprise  \n",
       "UserId                                              \n",
       "1171579752855683619_212070047   0.009657  0.000181  \n",
       "1171594777274371222_176762322   0.000000  0.000000  \n",
       "1171407552643586413_581125501   0.000000  0.000000  \n",
       "1171407552643586413_581125501   0.000000  0.000000  \n",
       "1171508187966229230_2797323089  0.000000  0.000000  \n",
       "\n",
       "[5 rows x 32 columns]"
      ]
     },
     "execution_count": 3,
     "metadata": {},
     "output_type": "execute_result"
    }
   ],
   "source": [
    "data.head()"
   ]
  },
  {
   "cell_type": "code",
   "execution_count": 7,
   "metadata": {},
   "outputs": [
    {
     "data": {
      "text/plain": [
       "Index(['Followings', 'Followers', 'MediaCount', 'BrandName', 'BrandCategory',\n",
       "       'Hashtags', 'Caption', 'ImgURL', 'Likes', 'Comments ', 'CreationTime',\n",
       "       'Link', 'Selfie', 'BodySnap', 'Marketing', 'ProductOnly', 'NonFashion',\n",
       "       'Face', 'Logo', 'BrandLogo', 'Smile', 'Outdoor', 'NumberOfPeople',\n",
       "       'NumberOfFashionProduct', 'Anger', 'Contempt', 'Disgust', 'Fear',\n",
       "       'Happiness', 'Neutral', 'Sadness', 'Surprise'],\n",
       "      dtype='object')"
      ]
     },
     "execution_count": 7,
     "metadata": {},
     "output_type": "execute_result"
    }
   ],
   "source": [
    "data.columns"
   ]
  },
  {
   "cell_type": "markdown",
   "metadata": {},
   "source": [
    "### (2) Data Preprocessing\n",
    "#### Conduct data cleaning to **1)** remove empty content; **2)** remove '\\r', '\\n', and punctuation; **3)** remove redundant spaces; **4)** convert all words into lower case"
   ]
  },
  {
   "cell_type": "code",
   "execution_count": 37,
   "metadata": {},
   "outputs": [],
   "source": [
    "from string import punctuation\n",
    "\n",
    "def clean(x):\n",
    "    x = x.replace('\\r', ' ')\n",
    "    x = x.replace('\\n', ' ')\n",
    "    for eachpunc in punctuation:\n",
    "        x = x.replace(eachpunc, ' ')\n",
    "    x = re.sub(r'[£0-9]+', ' ', x)\n",
    "    x = re.sub(r'[\\s]+', ' ', x)\n",
    "    return x.strip().lower()"
   ]
  },
  {
   "cell_type": "code",
   "execution_count": 54,
   "metadata": {},
   "outputs": [
    {
     "data": {
      "text/html": [
       "<div>\n",
       "<style scoped>\n",
       "    .dataframe tbody tr th:only-of-type {\n",
       "        vertical-align: middle;\n",
       "    }\n",
       "\n",
       "    .dataframe tbody tr th {\n",
       "        vertical-align: top;\n",
       "    }\n",
       "\n",
       "    .dataframe thead th {\n",
       "        text-align: right;\n",
       "    }\n",
       "</style>\n",
       "<table border=\"1\" class=\"dataframe\">\n",
       "  <thead>\n",
       "    <tr style=\"text-align: right;\">\n",
       "      <th></th>\n",
       "      <th>Followers</th>\n",
       "      <th>MediaCount</th>\n",
       "      <th>BrandName</th>\n",
       "      <th>BrandCategory</th>\n",
       "      <th>Hashtags</th>\n",
       "      <th>Caption</th>\n",
       "      <th>Likes</th>\n",
       "      <th>Comments</th>\n",
       "    </tr>\n",
       "  </thead>\n",
       "  <tbody>\n",
       "    <tr>\n",
       "      <th>0</th>\n",
       "      <td>9840.0</td>\n",
       "      <td>541</td>\n",
       "      <td>abercrombie</td>\n",
       "      <td>High street</td>\n",
       "      <td>beautiful summer fashion love cute food likefo...</td>\n",
       "      <td>we were born to be real not to be perfect aber...</td>\n",
       "      <td>97</td>\n",
       "      <td>0</td>\n",
       "    </tr>\n",
       "    <tr>\n",
       "      <th>1</th>\n",
       "      <td>2300.0</td>\n",
       "      <td>272</td>\n",
       "      <td>abercrombie</td>\n",
       "      <td>High street</td>\n",
       "      <td>teen model brunette selfie hollister snapchat ...</td>\n",
       "      <td>gotta run but first let me take selfie message...</td>\n",
       "      <td>94</td>\n",
       "      <td>0</td>\n",
       "    </tr>\n",
       "    <tr>\n",
       "      <th>2</th>\n",
       "      <td>605.0</td>\n",
       "      <td>106</td>\n",
       "      <td>abercrombie</td>\n",
       "      <td>High street</td>\n",
       "      <td>alexandani cute llbean beanboots anthropologie...</td>\n",
       "      <td>dress to impress u f</td>\n",
       "      <td>91</td>\n",
       "      <td>3</td>\n",
       "    </tr>\n",
       "    <tr>\n",
       "      <th>3</th>\n",
       "      <td>605.0</td>\n",
       "      <td>106</td>\n",
       "      <td>abercrombie</td>\n",
       "      <td>High street</td>\n",
       "      <td>alexandani cute llbean beanboots anthropologie...</td>\n",
       "      <td>dress to impress u f</td>\n",
       "      <td>94</td>\n",
       "      <td>3</td>\n",
       "    </tr>\n",
       "    <tr>\n",
       "      <th>4</th>\n",
       "      <td>456.0</td>\n",
       "      <td>56</td>\n",
       "      <td>abercrombie</td>\n",
       "      <td>High street</td>\n",
       "      <td>abercrombieandfitch shopping love hollister vi...</td>\n",
       "      <td>love shopping shoppen hollister abercrombie ab...</td>\n",
       "      <td>9</td>\n",
       "      <td>1</td>\n",
       "    </tr>\n",
       "  </tbody>\n",
       "</table>\n",
       "</div>"
      ],
      "text/plain": [
       "   Followers  MediaCount    BrandName BrandCategory  \\\n",
       "0     9840.0         541  abercrombie   High street   \n",
       "1     2300.0         272  abercrombie   High street   \n",
       "2      605.0         106  abercrombie   High street   \n",
       "3      605.0         106  abercrombie   High street   \n",
       "4      456.0          56  abercrombie   High street   \n",
       "\n",
       "                                            Hashtags  \\\n",
       "0  beautiful summer fashion love cute food likefo...   \n",
       "1  teen model brunette selfie hollister snapchat ...   \n",
       "2  alexandani cute llbean beanboots anthropologie...   \n",
       "3  alexandani cute llbean beanboots anthropologie...   \n",
       "4  abercrombieandfitch shopping love hollister vi...   \n",
       "\n",
       "                                             Caption  Likes  Comments   \n",
       "0  we were born to be real not to be perfect aber...     97          0  \n",
       "1  gotta run but first let me take selfie message...     94          0  \n",
       "2                               dress to impress u f     91          3  \n",
       "3                               dress to impress u f     94          3  \n",
       "4  love shopping shoppen hollister abercrombie ab...      9          1  "
      ]
     },
     "execution_count": 54,
     "metadata": {},
     "output_type": "execute_result"
    }
   ],
   "source": [
    "data1 =  data[data['Hashtags'] != '']\n",
    "data1 =  data[data['Caption'] != '']\n",
    "data1['Hashtags'] = DataFrame(data1.Hashtags.apply(str).map(clean))\n",
    "data1['Caption'] = DataFrame(data1.Caption.apply(str).map(clean))\n",
    "data1 =data1[['Followers','MediaCount','BrandName','BrandCategory','Hashtags','Caption', 'Likes','Comments ']]\n",
    "data1.index = np.arange(len(data1))\n",
    "data1.head()"
   ]
  },
  {
   "cell_type": "markdown",
   "metadata": {},
   "source": [
    "### (3) Exploratory data analysis \n",
    "#### plot the potential relationships \n",
    "1. Followers & MediaCount\n",
    "2. Followers & Likes\n",
    "3. Length of hashtag & Likes\n",
    "4. Length of caption & Likes"
   ]
  },
  {
   "cell_type": "code",
   "execution_count": 78,
   "metadata": {},
   "outputs": [
    {
     "data": {
      "image/png": "[encoded data removed]",
      "text/plain": [
       "<Figure size 432x288 with 1 Axes>"
      ]
     },
     "metadata": {
      "needs_background": "light"
     },
     "output_type": "display_data"
    }
   ],
   "source": [
    "plot(data1['MediaCount'],data1['Followers'], marker='o', color='blue', linestyle='None')\n",
    "ylabel(\"followers\")\n",
    "xlabel(\"media count\")\n",
    "title('media count vs followers')\n",
    "show()"
   ]
  },
  {
   "cell_type": "markdown",
   "metadata": {},
   "source": [
    "no obvious relationship between number of posts and followers"
   ]
  },
  {
   "cell_type": "code",
   "execution_count": 79,
   "metadata": {},
   "outputs": [
    {
     "data": {
      "image/png": "[encoded data removed]",
      "text/plain": [
       "<Figure size 432x288 with 1 Axes>"
      ]
     },
     "metadata": {
      "needs_background": "light"
     },
     "output_type": "display_data"
    }
   ],
   "source": [
    "plot(data1['Followers'],data1['Likes'], marker='o', color='blue', linestyle='None')\n",
    "ylabel(\"likes\")\n",
    "xlabel(\"followers\")\n",
    "title('followers vs likes')\n",
    "show()"
   ]
  },
  {
   "cell_type": "markdown",
   "metadata": {},
   "source": [
    "Pictures posted by those with more followers tend to get more likes."
   ]
  },
  {
   "cell_type": "code",
   "execution_count": 88,
   "metadata": {},
   "outputs": [
    {
     "data": {
      "image/png": "[encoded data removed]",
      "text/plain": [
       "<Figure size 432x288 with 1 Axes>"
      ]
     },
     "metadata": {
      "needs_background": "light"
     },
     "output_type": "display_data"
    }
   ],
   "source": [
    "data1['LengthOfHashtag']=data1['Hashtags'].str.len()\n",
    "plot(data1['LengthOfHashtag'],data1['Likes'], marker='o', color='blue', linestyle='None')\n",
    "ylabel(\"likes\")\n",
    "xlabel(\"length of hashtag\")\n",
    "title('length of hashtag vs likes')\n",
    "show()"
   ]
  },
  {
   "cell_type": "markdown",
   "metadata": {},
   "source": [
    "no obvious relationship between length of hashtags and likes"
   ]
  },
  {
   "cell_type": "code",
   "execution_count": 89,
   "metadata": {},
   "outputs": [
    {
     "data": {
      "image/png": "[encoded data removed]",
      "text/plain": [
       "<Figure size 432x288 with 1 Axes>"
      ]
     },
     "metadata": {
      "needs_background": "light"
     },
     "output_type": "display_data"
    }
   ],
   "source": [
    "data1['LengthOfCaption']=data1['Caption'].str.len()\n",
    "plot(data1['LengthOfCaption'],data1['Likes'], marker='o', color='blue', linestyle='None')\n",
    "ylabel(\"likes\")\n",
    "xlabel(\"length of caption\")\n",
    "title('length of caption vs likes')\n",
    "show()"
   ]
  },
  {
   "cell_type": "markdown",
   "metadata": {},
   "source": [
    "no obvious relationship between length of caption and likes"
   ]
  },
  {
   "cell_type": "code",
   "execution_count": 119,
   "metadata": {},
   "outputs": [
    {
     "data": {
      "text/plain": [
       "48"
      ]
     },
     "execution_count": 119,
     "metadata": {},
     "output_type": "execute_result"
    }
   ],
   "source": [
    "len(data1['BrandName'].value_counts())"
   ]
  },
  {
   "cell_type": "markdown",
   "metadata": {},
   "source": [
    "#### find average number of likes of different brand categories"
   ]
  },
  {
   "cell_type": "code",
   "execution_count": 214,
   "metadata": {},
   "outputs": [
    {
     "data": {
      "text/plain": [
       "BrandCategory\n",
       "Small couture    119.003645\n",
       "Designer         102.125474\n",
       "High street       99.702581\n",
       "Mega couture      48.087776\n",
       "Name: Likes, dtype: float64"
      ]
     },
     "execution_count": 214,
     "metadata": {},
     "output_type": "execute_result"
    }
   ],
   "source": [
    "avg_likes = data1.groupby('BrandCategory')['Likes'].mean().sort_values(ascending = False)\n",
    "avg_likes"
   ]
  },
  {
   "cell_type": "markdown",
   "metadata": {},
   "source": [
    "#### find top 10 brands with largest average number of likes "
   ]
  },
  {
   "cell_type": "code",
   "execution_count": 129,
   "metadata": {},
   "outputs": [
    {
     "data": {
      "text/plain": [
       "BrandName\n",
       "urbanoutfitters    273.750378\n",
       "nancygonzalez      235.329616\n",
       "alexanderwang      224.989362\n",
       "acnestudios        191.031343\n",
       "cesareattolini     182.975420\n",
       "americanapparel    170.629630\n",
       "isabelmarant       156.720971\n",
       "kiton              136.401907\n",
       "stellamccartney    134.253425\n",
       "forever21          132.736559\n",
       "Name: Likes, dtype: float64"
      ]
     },
     "execution_count": 129,
     "metadata": {},
     "output_type": "execute_result"
    }
   ],
   "source": [
    "average_likes = data1.groupby('BrandName')['Likes'].mean().sort_values(ascending = False)\n",
    "average_likes[:10]"
   ]
  },
  {
   "cell_type": "markdown",
   "metadata": {},
   "source": [
    "Top 10 brands with largest average number of likes are urbanoutfitters, nancygonzalez, alexanderwang, acnestudios, cesareattolini, americanapparel, isabelmarant, kiton, stellamccartney, and forever21."
   ]
  },
  {
   "cell_type": "markdown",
   "metadata": {},
   "source": [
    "### 4) Topic Modeling with Latent Dirichlet Allocation (LDA)\n",
    "#### Using Latent Dirichlet Allocation (LDA) to generate 10 topics (by default) from hashtag and caption"
   ]
  },
  {
   "cell_type": "code",
   "execution_count": 178,
   "metadata": {},
   "outputs": [
    {
     "name": "stderr",
     "output_type": "stream",
     "text": [
      "/Users/tammy/anaconda2/envs/Python3/lib/python3.6/site-packages/sklearn/decomposition/online_lda.py:536: DeprecationWarning: The default value for 'learning_method' will be changed from 'online' to 'batch' in the release 0.20. This warning was introduced in 0.18.\n",
      "  DeprecationWarning)\n"
     ]
    },
    {
     "name": "stdout",
     "output_type": "stream",
     "text": [
      "Topic 1: fc af ab eb ea cb ec uff ed theory\n",
      "Topic 2: fashion sandro kiton maisonmargiela shoes menswear vintage clothes dolls fw\n",
      "Topic 3: zara siambrandname topshop sbn mango ufe marcjacobs kloset sale lynaround\n",
      "Topic 4: like follow ermenegildozegna women nike indonesia adidas london dm apparel\n",
      "Topic 5: paris calvinklein love art fall beauty free model fashionweek fallwinter\n",
      "Topic 6: xe viviennewestwood bags menswear cesareattolini xf mensfashion handmade russia luxury\n",
      "Topic 7: com michaelkors coach katespade ysl marcbymarcjacobs myluxefashions dress mk thailand\n",
      "Topic 8: fashion style ootd vince outfit love rebeccaminkoff instafashion fashionblogger nancygonzalez\n",
      "Topic 9: uc ub ud ac dc uae uac ubc uce uadf\n",
      "Topic 10: chanel ufe dior prada hermes gucci louisvuitton valentino fendi celine\n"
     ]
    }
   ],
   "source": [
    "from sklearn.decomposition import LatentDirichletAllocation\n",
    "from sklearn.feature_extraction.text import CountVectorizer\n",
    "\n",
    "data1['HashtagCaption']=data1['Hashtags'].astype(str) + ' ' + data1['Caption']\n",
    "\n",
    "wordcounter = CountVectorizer(max_df = 0.95, min_df = 10, stop_words = 'english')\n",
    "document_dtm = wordcounter.fit_transform(data1['HashtagCaption']).todense()\n",
    "lda = LatentDirichletAllocation(random_state = 300)\n",
    "document_topic = lda.fit_transform(document_dtm)\n",
    "\n",
    "def print_topic_word(x):\n",
    "    topic = x.name\n",
    "    top10_word = ' '.join(x.sort_values(ascending = False)[:10].index.tolist())\n",
    "    print(topic + ': ' + top10_word)\n",
    "    return\n",
    "\n",
    "word_topic_df = DataFrame(lda.components_.T, index = wordcounter.get_feature_names(), columns = ['Topic 1', 'Topic 2', 'Topic 3', 'Topic 4', 'Topic 5', 'Topic 6', 'Topic 7', 'Topic 8', 'Topic 9', 'Topic 10'])\n",
    "result = word_topic_df.apply(print_topic_word)"
   ]
  },
  {
   "cell_type": "markdown",
   "metadata": {},
   "source": [
    "I extract the following 8 groups of brands and keywords are mentioned together frequently. Topic 1 and Topic 9 are removed because they seem irrelevant.\n",
    "\n",
    "Group1: fashion sandro kiton maisonmargiela shoes menswear vintage clothes dolls fw\n",
    "\n",
    "Group2: zara siambrandname topshop sbn mango ufe marcjacobs kloset sale lynaround\n",
    "\n",
    "Group3: ermenegildozegna women nike indonesia adidas london dm\n",
    "\n",
    "Group4: paris calvinklein love art fall beauty free model fashionweek fallwinter\n",
    "\n",
    "Group5: xe viviennewestwood bags menswear cesareattolini xf mensfashion handmade russia luxury\n",
    "\n",
    "Group6: com michaelkors coach katespade ysl marcbymarcjacobs myluxefashions dress mk thailand\n",
    "\n",
    "Group7: fashion style ootd vince outfit rebeccaminkoff instafashion fashionblogger nancygonzalez\n",
    "\n",
    "Group8: chanel ufe dior prada hermes gucci louisvuitton valentino fendi celine"
   ]
  },
  {
   "cell_type": "markdown",
   "metadata": {},
   "source": [
    "### 5) Association Between Topics"
   ]
  },
  {
   "cell_type": "code",
   "execution_count": 208,
   "metadata": {},
   "outputs": [],
   "source": [
    "topic1 = ['fashion', 'sandro', 'kiton', 'maisonmargiela', 'shoes', 'menswear', 'vintage', 'clothes', 'dolls', 'fw']\n",
    "\n",
    "topic2 = ['zara','siambrandname', 'topshop', 'sbn', 'mango', 'ufe', 'marcjacobs', 'kloset', 'sale', 'lynaround']\n",
    "\n",
    "topic3 = ['ermenegildozegna', 'women', 'nike', 'indonesia', 'adidas','london', 'dm']\n",
    "\n",
    "topic4 = ['paris', 'calvinklein', 'love', 'art', 'fall', 'beauty', 'free', 'model', 'fashionweek', 'fallwinter']\n",
    "\n",
    "topic5 = ['xe', 'viviennewestwood', 'bags', 'menswear', 'cesareattolini', 'xf', 'mensfashion', 'handmade', 'russia', 'luxury']\n",
    "\n",
    "topic6 = ['com', 'michaelkors', 'coach', 'katespade', 'ysl', 'marcbymarcjacobs', 'myluxefashions', 'dress', 'mk', 'thailand']\n",
    "\n",
    "topic7 = ['fashion', 'style', 'ootd', 'vince', 'outfit',  'rebeccaminkoff', 'instafashion', 'fashionblogger', 'nancygonzalez']\n",
    "\n",
    "topic8 = ['chanel', 'ufe', 'dior','prada', 'hermes', 'gucci', 'louisvuitton', 'valentino', 'fendi', 'celine']\n",
    "\n"
   ]
  },
  {
   "cell_type": "code",
   "execution_count": 209,
   "metadata": {},
   "outputs": [],
   "source": [
    "def topic_replace(x):\n",
    "    for a in topic1:\n",
    "        if a in x.split(' '):\n",
    "            x = x.replace(a, 'topic1')\n",
    "    for b in topic2:\n",
    "        if b in x.split(' '):\n",
    "            x = x.replace(b, 'topic2')\n",
    "    for c in topic3:\n",
    "        if c in x.split(' '):\n",
    "            x = x.replace(c, 'topic3')\n",
    "    for d in topic4:\n",
    "        if d in x.split(' '):\n",
    "            x = x.replace(d, 'topic4')\n",
    "    for e in topic5:\n",
    "        if e in x.split(' '):\n",
    "            x = x.replace(e, 'topic5')\n",
    "    for f in topic6:\n",
    "        if f in x.split(' '):\n",
    "            x = x.replace(f, 'topic6')\n",
    "    for g in topic7:\n",
    "        if g in x.split(' '):\n",
    "            x = x.replace(g, 'topic7')\n",
    "    for h in topic8:\n",
    "        if h in x.split(' '):\n",
    "            x = x.replace(h, 'topic8')\n",
    "    return x\n",
    "\n",
    "data_caption_topic = data1['Caption'].map(topic_replace)"
   ]
  },
  {
   "cell_type": "code",
   "execution_count": 211,
   "metadata": {},
   "outputs": [
    {
     "data": {
      "text/html": [
       "<div>\n",
       "<style scoped>\n",
       "    .dataframe tbody tr th:only-of-type {\n",
       "        vertical-align: middle;\n",
       "    }\n",
       "\n",
       "    .dataframe tbody tr th {\n",
       "        vertical-align: top;\n",
       "    }\n",
       "\n",
       "    .dataframe thead th {\n",
       "        text-align: right;\n",
       "    }\n",
       "</style>\n",
       "<table border=\"1\" class=\"dataframe\">\n",
       "  <thead>\n",
       "    <tr style=\"text-align: right;\">\n",
       "      <th></th>\n",
       "      <th>topic1</th>\n",
       "      <th>topic2</th>\n",
       "      <th>topic3</th>\n",
       "      <th>topic4</th>\n",
       "      <th>topic5</th>\n",
       "      <th>topic6</th>\n",
       "      <th>topic7</th>\n",
       "      <th>topic8</th>\n",
       "    </tr>\n",
       "  </thead>\n",
       "  <tbody>\n",
       "    <tr>\n",
       "      <th>topic1</th>\n",
       "      <td>NaN</td>\n",
       "      <td>0.360301</td>\n",
       "      <td>1.117919</td>\n",
       "      <td>0.814897</td>\n",
       "      <td>0.592793</td>\n",
       "      <td>0.529435</td>\n",
       "      <td>0.576022</td>\n",
       "      <td>0.264116</td>\n",
       "    </tr>\n",
       "    <tr>\n",
       "      <th>topic2</th>\n",
       "      <td>0.360301</td>\n",
       "      <td>NaN</td>\n",
       "      <td>0.684579</td>\n",
       "      <td>0.574474</td>\n",
       "      <td>0.439880</td>\n",
       "      <td>0.229972</td>\n",
       "      <td>0.426841</td>\n",
       "      <td>0.141367</td>\n",
       "    </tr>\n",
       "    <tr>\n",
       "      <th>topic3</th>\n",
       "      <td>1.117919</td>\n",
       "      <td>0.684579</td>\n",
       "      <td>NaN</td>\n",
       "      <td>1.360866</td>\n",
       "      <td>1.163419</td>\n",
       "      <td>0.664156</td>\n",
       "      <td>1.307233</td>\n",
       "      <td>0.350995</td>\n",
       "    </tr>\n",
       "    <tr>\n",
       "      <th>topic4</th>\n",
       "      <td>0.814897</td>\n",
       "      <td>0.574474</td>\n",
       "      <td>1.360866</td>\n",
       "      <td>NaN</td>\n",
       "      <td>1.006136</td>\n",
       "      <td>0.718623</td>\n",
       "      <td>1.169975</td>\n",
       "      <td>0.339161</td>\n",
       "    </tr>\n",
       "    <tr>\n",
       "      <th>topic5</th>\n",
       "      <td>0.592793</td>\n",
       "      <td>0.439880</td>\n",
       "      <td>1.163419</td>\n",
       "      <td>1.006136</td>\n",
       "      <td>NaN</td>\n",
       "      <td>0.509559</td>\n",
       "      <td>0.842849</td>\n",
       "      <td>0.257071</td>\n",
       "    </tr>\n",
       "    <tr>\n",
       "      <th>topic6</th>\n",
       "      <td>0.529435</td>\n",
       "      <td>0.229972</td>\n",
       "      <td>0.664156</td>\n",
       "      <td>0.718623</td>\n",
       "      <td>0.509559</td>\n",
       "      <td>NaN</td>\n",
       "      <td>0.654602</td>\n",
       "      <td>0.172060</td>\n",
       "    </tr>\n",
       "    <tr>\n",
       "      <th>topic7</th>\n",
       "      <td>0.576022</td>\n",
       "      <td>0.426841</td>\n",
       "      <td>1.307233</td>\n",
       "      <td>1.169975</td>\n",
       "      <td>0.842849</td>\n",
       "      <td>0.654602</td>\n",
       "      <td>NaN</td>\n",
       "      <td>0.343234</td>\n",
       "    </tr>\n",
       "    <tr>\n",
       "      <th>topic8</th>\n",
       "      <td>0.264116</td>\n",
       "      <td>0.141367</td>\n",
       "      <td>0.350995</td>\n",
       "      <td>0.339161</td>\n",
       "      <td>0.257071</td>\n",
       "      <td>0.172060</td>\n",
       "      <td>0.343234</td>\n",
       "      <td>NaN</td>\n",
       "    </tr>\n",
       "  </tbody>\n",
       "</table>\n",
       "</div>"
      ],
      "text/plain": [
       "          topic1    topic2    topic3    topic4    topic5    topic6    topic7  \\\n",
       "topic1       NaN  0.360301  1.117919  0.814897  0.592793  0.529435  0.576022   \n",
       "topic2  0.360301       NaN  0.684579  0.574474  0.439880  0.229972  0.426841   \n",
       "topic3  1.117919  0.684579       NaN  1.360866  1.163419  0.664156  1.307233   \n",
       "topic4  0.814897  0.574474  1.360866       NaN  1.006136  0.718623  1.169975   \n",
       "topic5  0.592793  0.439880  1.163419  1.006136       NaN  0.509559  0.842849   \n",
       "topic6  0.529435  0.229972  0.664156  0.718623  0.509559       NaN  0.654602   \n",
       "topic7  0.576022  0.426841  1.307233  1.169975  0.842849  0.654602       NaN   \n",
       "topic8  0.264116  0.141367  0.350995  0.339161  0.257071  0.172060  0.343234   \n",
       "\n",
       "          topic8  \n",
       "topic1  0.264116  \n",
       "topic2  0.141367  \n",
       "topic3  0.350995  \n",
       "topic4  0.339161  \n",
       "topic5  0.257071  \n",
       "topic6  0.172060  \n",
       "topic7  0.343234  \n",
       "topic8       NaN  "
      ]
     },
     "execution_count": 211,
     "metadata": {},
     "output_type": "execute_result"
    }
   ],
   "source": [
    "wordcounter_topic = CountVectorizer(max_df = 0.95, min_df = 10, stop_words = 'english')\n",
    "dtm_caption_topic = wordcounter_topic.fit_transform(data_caption_topic).todense()\n",
    "dtm_caption_topic_df = DataFrame(dtm_caption_topic, columns = wordcounter_topic.get_feature_names())\n",
    "topic_list = ['topic1', 'topic2', 'topic3','topic4','topic5', 'topic6', 'topic7', 'topic8']\n",
    "lift_topic_df = DataFrame(np.zeros((8, 8)), columns = topic_list, index = topic_list)\n",
    "for i, eachA in enumerate(lift_topic_df):\n",
    "    sumA = dtm_caption_topic_df[eachA].sum()\n",
    "    for j, eachB in enumerate(lift_topic_df):\n",
    "        sumB = dtm_caption_topic_df[eachB].sum()\n",
    "        newss = dtm_caption_topic_df[eachA] + dtm_caption_topic_df[eachB]\n",
    "        sumAB = (newss == 2).sum()\n",
    "        lift = (sumAB * len(dtm_caption_topic_df)) / (sumA * sumB)\n",
    "        lift_topic_df.iloc[i, j] = lift\n",
    "        lift_topic_df.iloc[i, i] = np.nan\n",
    "lift_topic_df\n"
   ]
  },
  {
   "cell_type": "markdown",
   "metadata": {},
   "source": [
    "Topic 3 and Topic 7, lift value = 1.31\n",
    "\n",
    "topic3 = ['ermenegildozegna', 'women', 'nike', 'indonesia', 'adidas','london', 'dm']\n",
    "\n",
    "topic7 = ['fashion', 'style', 'ootd', 'vince', 'outfit',  'rebeccaminkoff', 'instafashion', 'fashionblogger', 'nancygonzalez']\n",
    "\n",
    "A lift value larger than 1 means that two items occur together more often than if they were independent \n",
    "\n",
    "Therefore, these two topics can be considered occur together frequently."
   ]
  },
  {
   "cell_type": "markdown",
   "metadata": {},
   "source": [
    "### (6) Conclusion\n",
    "##### Process: Data Preprocessing--> Exploratory data analysis -->Topic Modeling with Latent Dirichlet Allocation (LDA) --> Association Between Topics"
   ]
  },
  {
   "cell_type": "markdown",
   "metadata": {},
   "source": [
    "#### from EDA\n",
    "\n",
    "1） It shows no obvious relationship between number of posts & number of followers\n",
    "\n",
    "2） It shows no obvious relationship between length of hashtags/caption & number of likes.\n",
    "\n",
    "3） There are four brand catogories. The brand catogory getting largest number of likes per post is Small Couture, which gets around 119 likes per post. The second catogory is Designer, which gets around 102 likes per post. The third and the last are High Street and Mega couture, which respectively get about 100 and 48 likes per post. Therefore, it shows that Small Couture posts may have the highest engagement rate while Mega couture has the least.\n",
    "\n",
    "The brands of each category are listed as below.\n",
    "\n",
    "###### Small couture\t\n",
    "brioni, brunellocucinelli, cesareattolini, ermenegildozegna, fabianafilippi, kiton, loropiana, nancygonzalez\n",
    "###### Designer\t\n",
    "acnestudios, alexandermcqueen, alexanderwang, coach, dvf, iro, isabelmarant, katespade, maisonmargiela, marcbymarcjacobs, marcjacobs, michaelkors, paulsmith, rebeccaminkoff, sandro, stellamccartney, theory, vince, viviennewestwood\n",
    "###### High street\t\n",
    "abercrombie, americanapparel, americaneagle, calvinklein, forever21, gap, hollister, jcrew, mango, topshop, uniqlo, urbanoutfitters, zara\n",
    "###### Mega couture: \n",
    "burberry, cartier, chanel, gucci, hermes, louisvuitton, prada, tiffany\n",
    "\n",
    "4） Top 10 brands with largest average number of likes are urbanoutfitters, nancygonzalez, alexanderwang, acnestudios, cesareattolini, americanapparel, isabelmarant, kiton, stellamccartney, and forever21.\n",
    "\n",
    "\n",
    "#### from Topic Modeling\n",
    "5） The following 8 groups of brands and keywords are mentioned together frequently. \n",
    "\n",
    "Group1: fashion sandro kiton maisonmargiela shoes menswear vintage clothes dolls fw\n",
    "\n",
    "Group2: zara siambrandname topshop sbn mango ufe marcjacobs kloset sale lynaround\n",
    "\n",
    "Group3: ermenegildozegna women nike indonesia adidas london dm\n",
    "\n",
    "Group4: paris calvinklein love art fall beauty free model fashionweek fallwinter\n",
    "\n",
    "Group5: xe viviennewestwood bags menswear cesareattolini xf mensfashion handmade russia luxury\n",
    "\n",
    "Group6: com michaelkors coach katespade ysl marcbymarcjacobs myluxefashions dress mk thailand\n",
    "\n",
    "Group7: fashion style ootd vince outfit rebeccaminkoff instafashion fashionblogger nancygonzalez\n",
    "\n",
    "Group8: chanel ufe dior prada hermes gucci louisvuitton valentino fendi celine\n",
    "\n",
    "\n",
    "\n",
    "     Therefore, when users show interest in a specific brand or topic, they are very likely to search for other brands or keywords in the same group.\n",
    "#### from calculation of lift\n",
    "6） Lift value measures the association between topics. Based on the calculation (table shown above), Topic 3 and Topic 7 occur together frequently, which means that people interested in topic 3 may also search for keywords in topic 7.\n",
    "\n",
    "topic3 = ['ermenegildozegna', 'women', 'nike', 'indonesia', 'adidas','london', 'dm']\n",
    "\n",
    "topic7 = ['fashion', 'style', 'ootd', 'vince', 'outfit', 'rebeccaminkoff', 'instafashion', 'fashionblogger', 'nancygonzalez']\n",
    "\n",
    "Topic 3 and Topic 7, lift value = 1.31\n",
    "\n",
    "A lift value larger than 1 means that two items occur together more often than if they were independent.\n"
   ]
  },
  {
   "cell_type": "code",
   "execution_count": null,
   "metadata": {},
   "outputs": [],
   "source": []
  }
 ],
 "metadata": {
  "kernelspec": {
   "display_name": "Python 2",
   "language": "python",
   "name": "python2"
  },
  "language_info": {
   "codemirror_mode": {
    "name": "ipython",
    "version": 2
   },
   "file_extension": ".py",
   "mimetype": "text/x-python",
   "name": "python",
   "nbconvert_exporter": "python",
   "pygments_lexer": "ipython2",
   "version": "2.7.15"
  }
 },
 "nbformat": 4,
 "nbformat_minor": 2
}
